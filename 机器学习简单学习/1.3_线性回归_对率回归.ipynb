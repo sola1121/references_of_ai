{
 "cells": [
  {
   "cell_type": "markdown",
   "metadata": {},
   "source": [
    "# 对率回归\n",
    "\n",
    "对率回归（Logistic Regression）是一种广泛应用的统计方法，用于描述和解释分类因变量与一个或多个自变量之间的关系。尽管其名称中含有“回归”，它实际上是一种用于解决二分类或多分类问题的分类方法，而不是用于预测连续变量的回归方法。\n",
    "\n",
    "## 基本概念\n",
    "\n",
    "对率回归的核心是“对率函数”（Logistic Function），也称为“逻辑函数”或“Sigmoid 函数”\n",
    "\n",
    "\n",
    "## 应用场景\n",
    "\n",
    "+ 二分类问题：对率回归最常用于二分类问题，例如判断邮件是否为垃圾邮件、用户是否会点击广告等。\n",
    "+ 多分类问题：通过一对多（One-vs-All）或多项式对率回归（Multinomial Logistic Regression），对率回归也可用于多分类问题。\n",
    "\n",
    "## 优缺点\n",
    "\n",
    "**优点**  \n",
    "+ 结果易于解释：输出的是概率值，易于理解和解释。\n",
    "+ 计算效率高：算法相对简单，计算速度快。\n",
    "+ 适合大规模数据：能够处理包含大量特征的数据集。\n",
    "\n",
    "**缺点**  \n",
    "+ 假设条件：对率回归依赖于一些假设，如自变量之间相互独立、自变量与因变量之间呈线性关系等。\n",
    "+ 对异常值敏感：异常值可能会对模型产生较大影响。"
   ]
  },
  {
   "cell_type": "markdown",
   "metadata": {},
   "source": [
    "威斯康辛乳腺肿瘤数据集的基本介绍\n",
    "\n",
    "    特征\n",
    "        数据集包含30个特征，这些特征都是实值特征，是从乳腺肿瘤细胞核的图像中计算得出的。\n",
    "        这些特征包括细胞核的大小、形状、纹理等。\n",
    "    标签\n",
    "        0（良性）\n",
    "        1（恶性）\n",
    "    \n",
    "    数据集包含569个样本，其中212个是恶性，357个是良性。"
   ]
  },
  {
   "cell_type": "code",
   "execution_count": 3,
   "metadata": {},
   "outputs": [],
   "source": [
    "from sklearn.datasets import load_breast_cancer\n",
    "from sklearn.model_selection import train_test_split\n",
    "\n",
    "# 载入糖尿病数据集\n",
    "dataset = load_breast_cancer()   # 字典\n",
    "\n",
    "# 使用train_test_split()函数将数据分为训练用的特征与标签集, 和测试用的特征与标签集\n",
    "x_train, x_test, y_train, y_test = train_test_split(dataset[\"data\"], dataset[\"target\"], test_size=0.25, random_state=42)"
   ]
  },
  {
   "cell_type": "code",
   "execution_count": 6,
   "metadata": {},
   "outputs": [
    {
     "data": {
      "text/html": [
       "<style>#sk-container-id-4 {color: black;}#sk-container-id-4 pre{padding: 0;}#sk-container-id-4 div.sk-toggleable {background-color: white;}#sk-container-id-4 label.sk-toggleable__label {cursor: pointer;display: block;width: 100%;margin-bottom: 0;padding: 0.3em;box-sizing: border-box;text-align: center;}#sk-container-id-4 label.sk-toggleable__label-arrow:before {content: \"▸\";float: left;margin-right: 0.25em;color: #696969;}#sk-container-id-4 label.sk-toggleable__label-arrow:hover:before {color: black;}#sk-container-id-4 div.sk-estimator:hover label.sk-toggleable__label-arrow:before {color: black;}#sk-container-id-4 div.sk-toggleable__content {max-height: 0;max-width: 0;overflow: hidden;text-align: left;background-color: #f0f8ff;}#sk-container-id-4 div.sk-toggleable__content pre {margin: 0.2em;color: black;border-radius: 0.25em;background-color: #f0f8ff;}#sk-container-id-4 input.sk-toggleable__control:checked~div.sk-toggleable__content {max-height: 200px;max-width: 100%;overflow: auto;}#sk-container-id-4 input.sk-toggleable__control:checked~label.sk-toggleable__label-arrow:before {content: \"▾\";}#sk-container-id-4 div.sk-estimator input.sk-toggleable__control:checked~label.sk-toggleable__label {background-color: #d4ebff;}#sk-container-id-4 div.sk-label input.sk-toggleable__control:checked~label.sk-toggleable__label {background-color: #d4ebff;}#sk-container-id-4 input.sk-hidden--visually {border: 0;clip: rect(1px 1px 1px 1px);clip: rect(1px, 1px, 1px, 1px);height: 1px;margin: -1px;overflow: hidden;padding: 0;position: absolute;width: 1px;}#sk-container-id-4 div.sk-estimator {font-family: monospace;background-color: #f0f8ff;border: 1px dotted black;border-radius: 0.25em;box-sizing: border-box;margin-bottom: 0.5em;}#sk-container-id-4 div.sk-estimator:hover {background-color: #d4ebff;}#sk-container-id-4 div.sk-parallel-item::after {content: \"\";width: 100%;border-bottom: 1px solid gray;flex-grow: 1;}#sk-container-id-4 div.sk-label:hover label.sk-toggleable__label {background-color: #d4ebff;}#sk-container-id-4 div.sk-serial::before {content: \"\";position: absolute;border-left: 1px solid gray;box-sizing: border-box;top: 0;bottom: 0;left: 50%;z-index: 0;}#sk-container-id-4 div.sk-serial {display: flex;flex-direction: column;align-items: center;background-color: white;padding-right: 0.2em;padding-left: 0.2em;position: relative;}#sk-container-id-4 div.sk-item {position: relative;z-index: 1;}#sk-container-id-4 div.sk-parallel {display: flex;align-items: stretch;justify-content: center;background-color: white;position: relative;}#sk-container-id-4 div.sk-item::before, #sk-container-id-4 div.sk-parallel-item::before {content: \"\";position: absolute;border-left: 1px solid gray;box-sizing: border-box;top: 0;bottom: 0;left: 50%;z-index: -1;}#sk-container-id-4 div.sk-parallel-item {display: flex;flex-direction: column;z-index: 1;position: relative;background-color: white;}#sk-container-id-4 div.sk-parallel-item:first-child::after {align-self: flex-end;width: 50%;}#sk-container-id-4 div.sk-parallel-item:last-child::after {align-self: flex-start;width: 50%;}#sk-container-id-4 div.sk-parallel-item:only-child::after {width: 0;}#sk-container-id-4 div.sk-dashed-wrapped {border: 1px dashed gray;margin: 0 0.4em 0.5em 0.4em;box-sizing: border-box;padding-bottom: 0.4em;background-color: white;}#sk-container-id-4 div.sk-label label {font-family: monospace;font-weight: bold;display: inline-block;line-height: 1.2em;}#sk-container-id-4 div.sk-label-container {text-align: center;}#sk-container-id-4 div.sk-container {/* jupyter's `normalize.less` sets `[hidden] { display: none; }` but bootstrap.min.css set `[hidden] { display: none !important; }` so we also need the `!important` here to be able to override the default hidden behavior on the sphinx rendered scikit-learn.org. See: https://github.com/scikit-learn/scikit-learn/issues/21755 */display: inline-block !important;position: relative;}#sk-container-id-4 div.sk-text-repr-fallback {display: none;}</style><div id=\"sk-container-id-4\" class=\"sk-top-container\"><div class=\"sk-text-repr-fallback\"><pre>LogisticRegression(max_iter=10000)</pre><b>In a Jupyter environment, please rerun this cell to show the HTML representation or trust the notebook. <br />On GitHub, the HTML representation is unable to render, please try loading this page with nbviewer.org.</b></div><div class=\"sk-container\" hidden><div class=\"sk-item\"><div class=\"sk-estimator sk-toggleable\"><input class=\"sk-toggleable__control sk-hidden--visually\" id=\"sk-estimator-id-4\" type=\"checkbox\" checked><label for=\"sk-estimator-id-4\" class=\"sk-toggleable__label sk-toggleable__label-arrow\">LogisticRegression</label><div class=\"sk-toggleable__content\"><pre>LogisticRegression(max_iter=10000)</pre></div></div></div></div></div>"
      ],
      "text/plain": [
       "LogisticRegression(max_iter=10000)"
      ]
     },
     "execution_count": 6,
     "metadata": {},
     "output_type": "execute_result"
    }
   ],
   "source": [
    "# 从线性模型中使用对率回归创建模型\n",
    "from sklearn.linear_model import LogisticRegression\n",
    "model = LogisticRegression(max_iter=10000)   # 当算法未能达到预定的收敛标准, 即迭代次数达到了上限但没有收敛. 可以将max_iter参数赋予更大的值.\n",
    "\n",
    "# 进行拟合\n",
    "model.fit(x_train, y_train)"
   ]
  },
  {
   "cell_type": "code",
   "execution_count": 7,
   "metadata": {},
   "outputs": [
    {
     "name": "stdout",
     "output_type": "stream",
     "text": [
      "当前对率回归模型的准确率为: 0.965034965034965\n"
     ]
    }
   ],
   "source": [
    "# 在测试特征值上进行预测\n",
    "y_pred = model.predict(x_test)\n",
    "\n",
    "# 将预测结果与测试集标签计算均方误差, 以评价模型的准确性\n",
    "from sklearn.metrics import accuracy_score\n",
    "# 计算准确率\n",
    "accu = accuracy_score(y_test, y_pred)\n",
    "print(\"当前对率回归模型的准确率为:\", accu)"
   ]
  }
 ],
 "metadata": {
  "kernelspec": {
   "display_name": "py3.8_venv",
   "language": "python",
   "name": "python3"
  },
  "language_info": {
   "codemirror_mode": {
    "name": "ipython",
    "version": 3
   },
   "file_extension": ".py",
   "mimetype": "text/x-python",
   "name": "python",
   "nbconvert_exporter": "python",
   "pygments_lexer": "ipython3",
   "version": "3.8.10"
  }
 },
 "nbformat": 4,
 "nbformat_minor": 2
}
