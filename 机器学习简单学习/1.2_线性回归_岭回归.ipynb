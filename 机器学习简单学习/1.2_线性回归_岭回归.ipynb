{
 "cells": [
  {
   "cell_type": "markdown",
   "metadata": {},
   "source": [
    "# 岭回归\n",
    "\n",
    "岭回归（Ridge Regression）是一种线性回归的改进方法，它通过引入L2正则化项来解决普通最小二乘法（Ordinary Least Squares, OLS）在处理多重共线性（即数据特征之间存在高度相关）时的问题。\n",
    "\n",
    "## 岭回归解决的问题\n",
    "\n",
    "在传统的线性回归中，通常使用最小二乘法来估计回归系数，目的是最小化预测值与实际值之间的平方差。当数据集中存在多重共线性时，最小二乘法可能会产生以下问题：\n",
    "\n",
    "+ 系数估计不稳定：由于特征之间的高度相关性，小的数据变化可能导致回归系数的巨大变化。\n",
    "+ 方差增大：多重共线性会导致回归系数的方差增大，从而使得模型的预测结果不稳定。\n",
    "+ 过拟合：模型可能会过于复杂，从而在训练集上表现良好但在新数据上表现不佳。\n",
    "\n",
    "岭回归通过在损失函数中添加一个L2正则化项来解决这个问题。\n",
    "\n",
    "## 岭回归的应用\n",
    "\n",
    "岭回归通常用于以下情况：\n",
    "\n",
    "+ 特征之间存在多重共线性。\n",
    "+ 特征数量多于样本数量（高维数据）。\n",
    "+ 希望模型具有一定的鲁棒性，不容易受异常值的影响。\n",
    "\n",
    "## 选择 α\n",
    "\n",
    "选择合适的α值通常需要交叉验证。一种常见的方法是使用K折交叉验证来评估不同 α值下的模型性能，并选择一个能够平衡模型复杂度和预测性能的值。\n"
   ]
  },
  {
   "cell_type": "markdown",
   "metadata": {},
   "source": [
    "scikit-learn中糖尿病数据集\n",
    "\n",
    "    样本数量：442\n",
    "    特征数量：8\n",
    "    特征\n",
    "        年龄（Age）\n",
    "        性别（Sex）\n",
    "        胎儿头围（Body mass index）\n",
    "        胰岛素浓度（Insulin）\n",
    "        血压（Blood Pressure）\n",
    "        皮脂厚度（Skin Thickness）\n",
    "        肚子到脚踝的长度（Pedigree function）\n",
    "        血糖浓度（Glucose Concentration）\n",
    "    目标标签\n",
    "        糖尿病患病情况（0表示未患病，1表示患病）"
   ]
  },
  {
   "cell_type": "code",
   "execution_count": 4,
   "metadata": {},
   "outputs": [],
   "source": [
    "from sklearn.datasets import load_diabetes\n",
    "from sklearn.model_selection import train_test_split\n",
    "\n",
    "# 载入糖尿病数据集\n",
    "dataset = load_diabetes()   # 字典\n",
    "\n",
    "# 使用train_test_split()函数将数据分为训练用的特征与标签集, 和测试用的特征与标签集\n",
    "x_train, x_test, y_train, y_test = train_test_split(dataset[\"data\"], dataset[\"target\"], test_size=0.25, random_state=42)"
   ]
  },
  {
   "cell_type": "code",
   "execution_count": 7,
   "metadata": {},
   "outputs": [
    {
     "data": {
      "text/html": [
       "<style>#sk-container-id-4 {color: black;}#sk-container-id-4 pre{padding: 0;}#sk-container-id-4 div.sk-toggleable {background-color: white;}#sk-container-id-4 label.sk-toggleable__label {cursor: pointer;display: block;width: 100%;margin-bottom: 0;padding: 0.3em;box-sizing: border-box;text-align: center;}#sk-container-id-4 label.sk-toggleable__label-arrow:before {content: \"▸\";float: left;margin-right: 0.25em;color: #696969;}#sk-container-id-4 label.sk-toggleable__label-arrow:hover:before {color: black;}#sk-container-id-4 div.sk-estimator:hover label.sk-toggleable__label-arrow:before {color: black;}#sk-container-id-4 div.sk-toggleable__content {max-height: 0;max-width: 0;overflow: hidden;text-align: left;background-color: #f0f8ff;}#sk-container-id-4 div.sk-toggleable__content pre {margin: 0.2em;color: black;border-radius: 0.25em;background-color: #f0f8ff;}#sk-container-id-4 input.sk-toggleable__control:checked~div.sk-toggleable__content {max-height: 200px;max-width: 100%;overflow: auto;}#sk-container-id-4 input.sk-toggleable__control:checked~label.sk-toggleable__label-arrow:before {content: \"▾\";}#sk-container-id-4 div.sk-estimator input.sk-toggleable__control:checked~label.sk-toggleable__label {background-color: #d4ebff;}#sk-container-id-4 div.sk-label input.sk-toggleable__control:checked~label.sk-toggleable__label {background-color: #d4ebff;}#sk-container-id-4 input.sk-hidden--visually {border: 0;clip: rect(1px 1px 1px 1px);clip: rect(1px, 1px, 1px, 1px);height: 1px;margin: -1px;overflow: hidden;padding: 0;position: absolute;width: 1px;}#sk-container-id-4 div.sk-estimator {font-family: monospace;background-color: #f0f8ff;border: 1px dotted black;border-radius: 0.25em;box-sizing: border-box;margin-bottom: 0.5em;}#sk-container-id-4 div.sk-estimator:hover {background-color: #d4ebff;}#sk-container-id-4 div.sk-parallel-item::after {content: \"\";width: 100%;border-bottom: 1px solid gray;flex-grow: 1;}#sk-container-id-4 div.sk-label:hover label.sk-toggleable__label {background-color: #d4ebff;}#sk-container-id-4 div.sk-serial::before {content: \"\";position: absolute;border-left: 1px solid gray;box-sizing: border-box;top: 0;bottom: 0;left: 50%;z-index: 0;}#sk-container-id-4 div.sk-serial {display: flex;flex-direction: column;align-items: center;background-color: white;padding-right: 0.2em;padding-left: 0.2em;position: relative;}#sk-container-id-4 div.sk-item {position: relative;z-index: 1;}#sk-container-id-4 div.sk-parallel {display: flex;align-items: stretch;justify-content: center;background-color: white;position: relative;}#sk-container-id-4 div.sk-item::before, #sk-container-id-4 div.sk-parallel-item::before {content: \"\";position: absolute;border-left: 1px solid gray;box-sizing: border-box;top: 0;bottom: 0;left: 50%;z-index: -1;}#sk-container-id-4 div.sk-parallel-item {display: flex;flex-direction: column;z-index: 1;position: relative;background-color: white;}#sk-container-id-4 div.sk-parallel-item:first-child::after {align-self: flex-end;width: 50%;}#sk-container-id-4 div.sk-parallel-item:last-child::after {align-self: flex-start;width: 50%;}#sk-container-id-4 div.sk-parallel-item:only-child::after {width: 0;}#sk-container-id-4 div.sk-dashed-wrapped {border: 1px dashed gray;margin: 0 0.4em 0.5em 0.4em;box-sizing: border-box;padding-bottom: 0.4em;background-color: white;}#sk-container-id-4 div.sk-label label {font-family: monospace;font-weight: bold;display: inline-block;line-height: 1.2em;}#sk-container-id-4 div.sk-label-container {text-align: center;}#sk-container-id-4 div.sk-container {/* jupyter's `normalize.less` sets `[hidden] { display: none; }` but bootstrap.min.css set `[hidden] { display: none !important; }` so we also need the `!important` here to be able to override the default hidden behavior on the sphinx rendered scikit-learn.org. See: https://github.com/scikit-learn/scikit-learn/issues/21755 */display: inline-block !important;position: relative;}#sk-container-id-4 div.sk-text-repr-fallback {display: none;}</style><div id=\"sk-container-id-4\" class=\"sk-top-container\"><div class=\"sk-text-repr-fallback\"><pre>Ridge(alpha=0.8)</pre><b>In a Jupyter environment, please rerun this cell to show the HTML representation or trust the notebook. <br />On GitHub, the HTML representation is unable to render, please try loading this page with nbviewer.org.</b></div><div class=\"sk-container\" hidden><div class=\"sk-item\"><div class=\"sk-estimator sk-toggleable\"><input class=\"sk-toggleable__control sk-hidden--visually\" id=\"sk-estimator-id-4\" type=\"checkbox\" checked><label for=\"sk-estimator-id-4\" class=\"sk-toggleable__label sk-toggleable__label-arrow\">Ridge</label><div class=\"sk-toggleable__content\"><pre>Ridge(alpha=0.8)</pre></div></div></div></div></div>"
      ],
      "text/plain": [
       "Ridge(alpha=0.8)"
      ]
     },
     "execution_count": 7,
     "metadata": {},
     "output_type": "execute_result"
    }
   ],
   "source": [
    "# 从线性模型中使用岭回归创建模型\n",
    "from sklearn.linear_model import Ridge\n",
    "model = Ridge(alpha=0.8)\n",
    "\n",
    "# 进行拟合\n",
    "model.fit(x_train, y_train)"
   ]
  },
  {
   "cell_type": "code",
   "execution_count": 16,
   "metadata": {},
   "outputs": [
    {
     "name": "stdout",
     "output_type": "stream",
     "text": [
      "当前岭回归模型预测结果与实际结果的均方误差为: 3105.4721464484733\n",
      "当前岭回归模型的R2得分为: 0.43840029731424435\n"
     ]
    }
   ],
   "source": [
    "# 在测试特征值上进行预测\n",
    "y_pred = model.predict(x_test)\n",
    "\n",
    "# 将预测结果与测试集标签计算均方误差, 以评价模型的准确性\n",
    "from sklearn.metrics import mean_squared_error, r2_score\n",
    "mea = mean_squared_error(y_test, y_pred)\n",
    "r2 = r2_score(y_test, y_pred)\n",
    "print(\"当前岭回归模型预测结果与实际结果的均方误差为:\", mea)\n",
    "print(\"当前岭回归模型的R2得分为:\", r2)"
   ]
  },
  {
   "cell_type": "markdown",
   "metadata": {},
   "source": [
    "**更改不同的alpha值测试岭回归模型的准确度**\n",
    "\n",
    "alpha参数控制回归器的复杂度. 当alpha趋于0时, 岭回归器就是普通最小二乘法的线性回归器."
   ]
  },
  {
   "cell_type": "code",
   "execution_count": 15,
   "metadata": {},
   "outputs": [
    {
     "name": "stdout",
     "output_type": "stream",
     "text": [
      "alpha值: 0.1 均方误差为: 2810.03864621312 R2得分为: 0.4918270736855389\n",
      "alpha值: 0.2 均方误差为: 2811.9362290088006 R2得分为: 0.4914839110733433\n",
      "alpha值: 0.30000000000000004 均方误差为: 2832.394458092902 R2得分为: 0.4877842046102704\n",
      "alpha值: 0.4 均方误差为: 2863.089394783008 R2得分为: 0.4822332717710124\n",
      "alpha值: 0.5 均方误差为: 2899.51008109652 R2得分为: 0.4756468830865507\n",
      "alpha值: 0.6 均方误差为: 2939.0762741076787 R2得分为: 0.4684916547722713\n",
      "alpha值: 0.7000000000000001 均方误差为: 2980.2458709623647 R2得分为: 0.46104646374722025\n",
      "alpha值: 0.8 均方误差为: 3022.066702547958 R2得分为: 0.45348350215009237\n",
      "alpha值: 0.9 均方误差为: 3063.937246630277 R2得分为: 0.44591155044709174\n",
      "alpha值: 1.0 均方误差为: 3105.4721464484733 R2得分为: 0.43840029731424435\n"
     ]
    }
   ],
   "source": [
    "import numpy as np\n",
    "dit = dict()\n",
    "\n",
    "# 设置不同的alpha值测试模型\n",
    "for a in np.arange(.1, 1.1, .1):\n",
    "    model = Ridge(alpha=a)\n",
    "    model.fit(x_train, y_train)\n",
    "    y_pred = model.predict(x_test)\n",
    "    dit[a] = [mean_squared_error(y_test, y_pred), r2_score(y_test, y_pred)]\n",
    "\n",
    "for k, v in dit.items():\n",
    "    print(\"alpha值:\", k, \"均方误差为:\", v[0], \"R2得分为:\", v[1])\n",
    "    "
   ]
  }
 ],
 "metadata": {
  "kernelspec": {
   "display_name": "py3.8_venv",
   "language": "python",
   "name": "python3"
  },
  "language_info": {
   "codemirror_mode": {
    "name": "ipython",
    "version": 3
   },
   "file_extension": ".py",
   "mimetype": "text/x-python",
   "name": "python",
   "nbconvert_exporter": "python",
   "pygments_lexer": "ipython3",
   "version": "3.8.10"
  }
 },
 "nbformat": 4,
 "nbformat_minor": 2
}
